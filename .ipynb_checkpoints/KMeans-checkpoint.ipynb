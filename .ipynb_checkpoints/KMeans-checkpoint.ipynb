{
 "cells": [
  {
   "cell_type": "code",
   "execution_count": 34,
   "metadata": {},
   "outputs": [],
   "source": [
    "import numpy as np\n",
    "import pandas as pd"
   ]
  },
  {
   "cell_type": "markdown",
   "metadata": {},
   "source": [
    "# K-Means Algorithm"
   ]
  },
  {
   "cell_type": "markdown",
   "metadata": {},
   "source": [
    "K-Means algorithm is a clustring algorithm. It is also a classic Expectation-Maximization algorithm.<br> \n",
    "Given a set of observations (x1, x2, ..., xn), where each observation is a d-dimensional real vector, k-means clustering aims to partition the n observations into k (≤ n) sets S = {S1, S2, ..., Sk} so as to minimize the within-cluster sum of squares (WCSS) (i.e. variance) <br>\n",
    "The Step is as follows:\n",
    "1. Randomly select k \"cluster centers\" from the data set;<br>\n",
    "2. For each iteration (iterate through all points):<br>\n",
    "(1). Find the nearest center for each point, and store the cluster for each center; <br>\n",
    "(2). Calculate the new center for each cluster; <br>\n",
    "(3). If there are no change of the means, end the loop; otherwise iterate. <br>"
   ]
  },
  {
   "cell_type": "code",
   "execution_count": 85,
   "metadata": {},
   "outputs": [],
   "source": [
    "import pandas as pd\n",
    "import numpy as np\n",
    "\n",
    "\"\"\"\n",
    "KMeans classifer\n",
    "By: Minchan Kim\n",
    "\"\"\"\n",
    "\n",
    "class KMeans():\n",
    "    def __init__(self, k=3, num_iter=1000):\n",
    "        \"\"\"\n",
    "        Initialize the KMeans model\n",
    "        \"\"\"\n",
    "        self.model_name = 'KMeans'\n",
    "        self.k = k\n",
    "        self.num_iter = num_iter\n",
    "        self.centers = None\n",
    "        self.RM = None\n",
    "\n",
    "\n",
    "    def train(self, X):\n",
    "        \"\"\"\n",
    "        Train the KMeans model\n",
    "        ---\n",
    "        Parameters:\n",
    "            X: Input feature matrix\n",
    "        ---\n",
    "        Return:\n",
    "            self\n",
    "        \"\"\"\n",
    "        r, c = X.shape\n",
    "        # Randomly choose the initial centers\n",
    "        centers = X[np.random.choice(r, self.k, replace=False)]\n",
    "\n",
    "        for _ in range(self.num_iter):\n",
    "            RM = np.zeros((r, self.k))\n",
    "\n",
    "            # Assign data points to the nearest centroid\n",
    "            for i in range(r):\n",
    "                distances = np.linalg.norm(X[i] - centers, axis=1)\n",
    "                closest = np.argmin(distances)\n",
    "                RM[i, closest] = 1\n",
    "            \n",
    "            new_centers = np.zeros((self.k, c))\n",
    "            # Recalculate the centroids\n",
    "            for j in range(self.k):\n",
    "                points_in_cluster = X[RM[:, j] == 1]\n",
    "                if len(points_in_cluster) > 0:\n",
    "                    new_centers[j] = np.mean(points_in_cluster, axis=0)\n",
    "            \n",
    "            # Check for convergence\n",
    "            if np.all(centers == new_centers):\n",
    "                break\n",
    "\n",
    "            centers = new_centers\n",
    "\n",
    "        self.centers = centers\n",
    "        self.RM = RM\n",
    "        return self\n"
   ]
  },
  {
   "cell_type": "code",
   "execution_count": 86,
   "metadata": {},
   "outputs": [],
   "source": [
    "import matplotlib.pyplot as plt\n",
    "from sklearn import datasets\n",
    "iris = datasets.load_iris()\n",
    "X = iris.data\n",
    "Y = iris.target"
   ]
  },
  {
   "cell_type": "code",
   "execution_count": 87,
   "metadata": {},
   "outputs": [],
   "source": [
    "X = X[:,2:4]"
   ]
  },
  {
   "cell_type": "code",
   "execution_count": 88,
   "metadata": {},
   "outputs": [],
   "source": [
    "clf = KMeans(k = 3)\n",
    "model = clf.train(X)"
   ]
  },
  {
   "cell_type": "code",
   "execution_count": 90,
   "metadata": {},
   "outputs": [
    {
     "name": "stdout",
     "output_type": "stream",
     "text": [
      "(46, 2)\n",
      "(50, 2)\n",
      "(54, 2)\n"
     ]
    },
    {
     "data": {
      "image/png": "[encoded data removed]",
      "text/plain": [
       "<Figure size 640x480 with 1 Axes>"
      ]
     },
     "metadata": {},
     "output_type": "display_data"
    }
   ],
   "source": [
    "r, c = model.RM.shape\n",
    "groups = []\n",
    "for i in range(c):\n",
    "    index = model.RM[:,i] == 1\n",
    "    groups.append(X[index])\n",
    "fig, ax = plt.subplots()\n",
    "ax.margins(0.05)\n",
    "for group in groups:\n",
    "    print(group.shape)\n",
    "    ax.plot(group[:,0], group[:,1], marker='o', linestyle='', ms=5)"
   ]
  },
  {
   "cell_type": "code",
   "execution_count": 40,
   "metadata": {},
   "outputs": [],
   "source": [
    "iris = datasets.load_iris()\n",
    "X = iris.data\n",
    "Y = iris.target\n",
    "X = X[:,[0,2]]"
   ]
  },
  {
   "cell_type": "code",
   "execution_count": 91,
   "metadata": {},
   "outputs": [
    {
     "name": "stdout",
     "output_type": "stream",
     "text": [
      "(50, 2)\n",
      "(52, 2)\n",
      "(48, 2)\n"
     ]
    },
    {
     "data": {
      "image/png": "[encoded data removed]",
      "text/plain": [
       "<Figure size 640x480 with 1 Axes>"
      ]
     },
     "metadata": {},
     "output_type": "display_data"
    }
   ],
   "source": [
    "clf = KMeans(k = 3)\n",
    "model = clf.train(X)\n",
    "r, c = model.RM.shape\n",
    "groups = []\n",
    "for i in range(c):\n",
    "    index = model.RM[:,i] == 1\n",
    "    groups.append(X[index])\n",
    "fig, ax = plt.subplots()\n",
    "ax.margins(0.05)\n",
    "for group in groups:\n",
    "    print(group.shape)\n",
    "    ax.plot(group[:,0], group[:,1], marker='o', linestyle='', ms=5)"
   ]
  },
  {
   "cell_type": "markdown",
   "metadata": {},
   "source": [
    "## 3 dimension"
   ]
  },
  {
   "cell_type": "code",
   "execution_count": 92,
   "metadata": {},
   "outputs": [],
   "source": [
    "iris = datasets.load_iris()\n",
    "X = iris.data\n",
    "Y = iris.target\n",
    "X = X[:,1:4]"
   ]
  },
  {
   "cell_type": "code",
   "execution_count": 93,
   "metadata": {},
   "outputs": [],
   "source": [
    "clf = KMeans(k = 3)\n",
    "model = clf.train(X)"
   ]
  },
  {
   "cell_type": "code",
   "execution_count": 44,
   "metadata": {},
   "outputs": [],
   "source": [
    "from mpl_toolkits.mplot3d import Axes3D"
   ]
  },
  {
   "cell_type": "code",
   "execution_count": 94,
   "metadata": {},
   "outputs": [],
   "source": [
    "groups = []\n",
    "r, c = model.RM.shape\n",
    "for i in range(c):\n",
    "    index = model.RM[:,i] == 1\n",
    "    groups.append(X[index])"
   ]
  },
  {
   "cell_type": "code",
   "execution_count": 95,
   "metadata": {},
   "outputs": [
    {
     "data": {
      "text/plain": [
       "<Figure size 600x600 with 0 Axes>"
      ]
     },
     "metadata": {},
     "output_type": "display_data"
    }
   ],
   "source": [
    "fig = plt.figure(figsize = (6, 6))\n",
    "ax = Axes3D(fig, elev = -150, azim = 130)\n",
    "for group in groups:\n",
    "    ax.scatter(group[:,0], group[:,1], group[:,2], marker='o')"
   ]
  },
  {
   "cell_type": "markdown",
   "metadata": {},
   "source": [
    "Note: We should expect different results every time we run Kmeans as the centers are randomly initialized."
   ]
  },
  {
   "cell_type": "markdown",
   "metadata": {},
   "source": [
    "# Gaussian Mixture"
   ]
  },
  {
   "cell_type": "markdown",
   "metadata": {},
   "source": [
    "Gaussian Mixture Algorithm is a softer version of the k-means algorithm. It is also a classic example of the Expectation-Maximization Algorithm. <br>\n",
    "In Gaussian Mixture Algorithm, we model the data as coming from a mixture of Gaussians.<br>\n",
    "In this example, we will be using a randomly generated Gaussian Distribution. <br>"
   ]
  },
  {
   "cell_type": "code",
   "execution_count": 96,
   "metadata": {},
   "outputs": [],
   "source": [
    "def gaussian(X, mu, cov):\n",
    "    \"\"\" \n",
    "    Function to create mixtures using the given matrix X, given covariance and mu.\n",
    "    ---\n",
    "    Parameter:\n",
    "        X: Input feature matrix\n",
    "        mu: Mean of the cluster\n",
    "        cov: Covariance of the cluster\n",
    "    ---\n",
    "    Return:\n",
    "    transformed x.\n",
    "    \"\"\"\n",
    "    # X should be matirx-like\n",
    "    n = X.shape[1]\n",
    "    diff = (X - mu).T\n",
    "    # Ensure cov is 2-dimensional. If it's 1D, convert it to 2D diagonal matrix.\n",
    "    if cov.ndim == 1:\n",
    "        cov = np.diag(cov)\n",
    "    return np.diagonal(1 / ((2 * np.pi) ** (n / 2) * np.linalg.det(cov) ** 0.5) * np.exp(-0.5 * np.dot(np.dot(diff.T, np.linalg.inv(cov)), diff))).reshape(-1, 1)"
   ]
  },
  {
   "cell_type": "code",
   "execution_count": 97,
   "metadata": {},
   "outputs": [],
   "source": [
    "from sklearn.datasets import make_blobs"
   ]
  },
  {
   "cell_type": "code",
   "execution_count": 98,
   "metadata": {},
   "outputs": [],
   "source": [
    "X, y = make_blobs(n_samples=500, n_features=3, cluster_std=2)"
   ]
  },
  {
   "cell_type": "code",
   "execution_count": 99,
   "metadata": {},
   "outputs": [
    {
     "data": {
      "text/plain": [
       "<mpl_toolkits.mplot3d.art3d.Path3DCollection at 0x2a13302b0>"
      ]
     },
     "execution_count": 99,
     "metadata": {},
     "output_type": "execute_result"
    },
    {
     "data": {
      "text/plain": [
       "<Figure size 600x600 with 0 Axes>"
      ]
     },
     "metadata": {},
     "output_type": "display_data"
    }
   ],
   "source": [
    "fig = plt.figure(figsize = (6, 6))\n",
    "ax = Axes3D(fig, elev = -150, azim = 130)\n",
    "ax.scatter(X[:,0], X[:,1], X[:,2], marker='o')"
   ]
  },
  {
   "cell_type": "code",
   "execution_count": 100,
   "metadata": {},
   "outputs": [],
   "source": [
    "def initialize_clusters(X, n_clusters):\n",
    "    \"\"\" \n",
    "    Initialize the clusters by storing the information in the data matrix X into the clusters\n",
    "    ---\n",
    "    Parameter:\n",
    "        X: Input feature matrix\n",
    "        n_clusters: Number of clusters we are trying to classify\n",
    "    ---\n",
    "    Return:\n",
    "        cluster: List of clusters. Each cluster center is calculated by the KMeans algorithm above.\n",
    "    \"\"\"\n",
    "    clusters = []\n",
    "    index = np.arange(X.shape[0])\n",
    "    \n",
    "    # We use the KMeans centroids to initialise the GMM\n",
    "    kmeans = KMeans().train(X)\n",
    "    mu_k = kmeans.centers\n",
    "    \n",
    "    for i in range(n_clusters):\n",
    "        clusters.append({\n",
    "            'w_k': 1.0 / n_clusters,\n",
    "            'mu_k': mu_k[i],\n",
    "            'cov_k': np.identity(X.shape[1], dtype=np.float64)\n",
    "        })\n",
    "        \n",
    "    return clusters"
   ]
  },
  {
   "cell_type": "code",
   "execution_count": 101,
   "metadata": {},
   "outputs": [],
   "source": [
    "def expectation_step(X, clusters):\n",
    "    \"\"\" \n",
    "    \"E-Step\" for the GM algorithm\n",
    "\n",
    "    Parameter:\n",
    "        X: Input feature matrix\n",
    "        clusters: List of clusters\n",
    "    \"\"\"\n",
    "    N = X.shape[0]\n",
    "    K = len(clusters)  # Number of clusters\n",
    "    totals = np.zeros((N, 1), dtype=np.float64)  # Initialize totals for each data point\n",
    "    \n",
    "    # Compute the probability of each data point in each cluster\n",
    "    for cluster in clusters:\n",
    "        pi_k = cluster['w_k']\n",
    "        mu_k = cluster['mu_k']\n",
    "        cov_k = cluster['cov_k']\n",
    "        \n",
    "        # Calculate the Gaussian probability for each data point for this cluster\n",
    "        prob = gaussian(X, mu_k, cov_k) * pi_k  # Weighted by the cluster weight\n",
    "        cluster['prob'] = prob  # Store the weighted probability for later use\n",
    "        totals += prob  # Summing the weighted probabilities for normalization\n",
    "    \n",
    "    # Calculate and store the posterior probabilities for each cluster\n",
    "    for cluster in clusters:\n",
    "        cluster['posterior'] = cluster['prob'] / totals  # Normalize to get posterior probabilities\n",
    "\n",
    "    # Update totals in each cluster dictionary for consistency\n",
    "    for cluster in clusters:\n",
    "        cluster['totals'] = totals"
   ]
  },
  {
   "cell_type": "code",
   "execution_count": 102,
   "metadata": {},
   "outputs": [],
   "source": [
    "def maximization_step(X, clusters):\n",
    "    \"\"\" \n",
    "    \"M-Step\" for the GM algorithm\n",
    "    ---\n",
    "    Parameter:\n",
    "        X: Input feature matrix\n",
    "        clusters: List of clusters\n",
    "    \"\"\"\n",
    "    N = float(X.shape[0])\n",
    "  \n",
    "    for cluster in clusters:\n",
    "        posterior = cluster['posterior'].reshape(-1)  # Ensure posterior is a 1D array for easier handling\n",
    "        N_k = posterior.sum()\n",
    "        \n",
    "        # Update weights\n",
    "        w_k = N_k / N\n",
    "        \n",
    "        # Update means\n",
    "        mu_k = np.dot(posterior, X) / N_k\n",
    "        \n",
    "        # Update covariance\n",
    "        diff = X - mu_k\n",
    "        cov_k = np.dot(posterior * diff.T, diff) / N_k  # Adjusted for correct broadcasting\n",
    "        \n",
    "        cluster['w_k'] = w_k\n",
    "        cluster['mu_k'] = mu_k\n",
    "        cluster['cov_k'] = np.diag(cov_k)  # Ensure covariance is correctly shaped, assuming independence"
   ]
  },
  {
   "cell_type": "code",
   "execution_count": 103,
   "metadata": {},
   "outputs": [],
   "source": [
    "def get_likelihood(X, clusters):\n",
    "    likelihood = []\n",
    "    sample_likelihoods = np.log(np.array([cluster['totals'] for cluster in clusters]))\n",
    "    return np.sum(sample_likelihoods), sample_likelihoods"
   ]
  },
  {
   "cell_type": "code",
   "execution_count": 104,
   "metadata": {},
   "outputs": [],
   "source": [
    "def train_gmm(X, n_clusters, n_epochs):\n",
    "    clusters = initialize_clusters(X, n_clusters)\n",
    "    likelihoods = np.zeros((n_epochs, ))\n",
    "    scores = np.zeros((X.shape[0], n_clusters))\n",
    "\n",
    "    for i in range(n_epochs):\n",
    "      \n",
    "        expectation_step(X, clusters)\n",
    "        maximization_step(X, clusters)\n",
    "\n",
    "        likelihood, sample_likelihoods = get_likelihood(X, clusters)\n",
    "        likelihoods[i] = likelihood\n",
    "        \n",
    "    for i, cluster in enumerate(clusters):\n",
    "        scores[:, i] = np.log(cluster['w_k']).reshape(-1)\n",
    "        \n",
    "    return clusters, likelihoods, scores, sample_likelihoods"
   ]
  },
  {
   "cell_type": "code",
   "execution_count": 105,
   "metadata": {},
   "outputs": [],
   "source": [
    "from KMeans import *\n",
    "from GMM import *"
   ]
  },
  {
   "cell_type": "code",
   "execution_count": 106,
   "metadata": {},
   "outputs": [],
   "source": [
    "clusters, likelihoods, scores, sample_likelihoods = train_gmm(X, 3, 100)"
   ]
  },
  {
   "cell_type": "code",
   "execution_count": 107,
   "metadata": {},
   "outputs": [],
   "source": [
    "from sklearn.cluster import KMeans"
   ]
  },
  {
   "cell_type": "code",
   "execution_count": 108,
   "metadata": {},
   "outputs": [
    {
     "name": "stdout",
     "output_type": "stream",
     "text": [
      "Means by sklearn:\n",
      " [[ 6.6973974   1.5535085  -8.51537837]\n",
      " [-6.80711161 -2.15182238  5.09952672]\n",
      " [-9.94834157 -6.75207749 -5.8639604 ]]\n",
      "Means by our implementation:\n",
      " [[ 6.75671816  1.23242737 -7.54452744]\n",
      " [-8.38121788 -4.45708075 -0.39448188]\n",
      " [ 6.6266031   1.93688846 -9.67457967]]\n",
      "Scores by sklearn:\n",
      " [ -7.32774504  -8.7718697   -6.03675619  -6.79383387  -6.93562459\n",
      "  -6.21635595 -10.36893116  -8.65132105  -8.26141278  -7.00359507\n",
      " -10.30637686 -10.77400816  -7.76403303  -7.9298516   -7.09962188\n",
      "  -7.66406257  -8.52427873 -10.25370847  -6.78587063  -7.65425758]\n",
      "Scores by our implementation:\n",
      " [ -9.00398012  -8.77090634  -7.66377294  -6.89067966  -7.85394744\n",
      "  -6.17940312 -10.4835465   -7.70488038 -10.68910817  -8.61975374\n",
      " -10.77824968 -11.26331584  -7.89749276  -7.20351544  -6.99216467\n",
      "  -7.78967911  -9.40198199 -11.46612034  -6.69244778  -8.02126374]\n"
     ]
    }
   ],
   "source": [
    "from sklearn.mixture import GaussianMixture\n",
    "\n",
    "gmm = GaussianMixture(n_components=3, max_iter=50).fit(X)\n",
    "gmm_scores = gmm.score_samples(X)\n",
    "\n",
    "print('Means by sklearn:\\n', gmm.means_)\n",
    "print('Means by our implementation:\\n', np.array([cluster['mu_k'].tolist() for cluster in clusters]))\n",
    "print('Scores by sklearn:\\n', gmm_scores[0:20])\n",
    "print('Scores by our implementation:\\n', sample_likelihoods.reshape(-1)[0:20])"
   ]
  },
  {
   "cell_type": "code",
   "execution_count": null,
   "metadata": {},
   "outputs": [],
   "source": []
  }
 ],
 "metadata": {
  "kernelspec": {
   "display_name": "Python 3 (ipykernel)",
   "language": "python",
   "name": "python3"
  },
  "language_info": {
   "codemirror_mode": {
    "name": "ipython",
    "version": 3
   },
   "file_extension": ".py",
   "mimetype": "text/x-python",
   "name": "python",
   "nbconvert_exporter": "python",
   "pygments_lexer": "ipython3",
   "version": "3.10.13"
  }
 },
 "nbformat": 4,
 "nbformat_minor": 2
}
