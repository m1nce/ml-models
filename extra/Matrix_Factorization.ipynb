{
 "cells": [
  {
   "cell_type": "markdown",
   "metadata": {},
   "source": [
    "You can read the paper for more detail. <BR>\n",
    "Reference: https://ieeexplore.ieee.org/abstract/document/5197422"
   ]
  },
  {
   "cell_type": "code",
   "execution_count": 21,
   "metadata": {},
   "outputs": [],
   "source": [
    "class Matrix_Factorization:\n",
    "    def __init__(self, alpha = 0.00001, iterations = 50, num_of_latent = 200, lam = 0.0005):\n",
    "        \"\"\"\n",
    "            Some initializations, if neccesary\n",
    "            \n",
    "            attributes: \n",
    "                        alpha: Learning Rate, default 0.01\n",
    "                        num_iter: Number of Iterations to update coefficient with training data\n",
    "                        num_of_latent: Number of latent factor.\n",
    "                        lam: Regularization constant\n",
    "                        \n",
    "            \n",
    "            TODO: 1. Initialize all variables needed.\n",
    "        \"\"\"\n",
    "        \n",
    "        self.alpha = alpha\n",
    "        self.iterations = iterations\n",
    "        self.num_of_latent = num_of_latent\n",
    "        self.lam = lam\n",
    "        \n",
    "    def fit(self, train):\n",
    "        \"\"\"\n",
    "            Train: list of tuples with (User, Movie, Rating)\n",
    "            num_user: Number of unique user.\n",
    "            num_movie: Number of unique movie\n",
    "            \n",
    "            TODO: 2. Initialize num_user and num_movie\n",
    "                  3. Save the training set.\n",
    "                  4. Initialize P and Q matrix, with normal distribution with mean = 0. \n",
    "                  Hint: Think about what P and Q represent, what they should do.Think about the shape too. \n",
    "            \n",
    "        \n",
    "        \"\"\"\n",
    "        num_user = 1 \n",
    "        num_movie = 1\n",
    "        \n",
    "        self.train = [(1,1,1)]\n",
    "\n",
    "        \n",
    "        self.P = [1]\n",
    "        self.Q = [1]\n",
    "        \n",
    "        rmse_lst = []\n",
    "        \n",
    "        \"\"\"\n",
    "            TODO: 5: Calculate the error, using P and Q matrix. \n",
    "                  6: We need to check if the absolute value error is less than some constant. Store the previous Q and P for adaptive learning rate.\n",
    "                      If it is less than that constant then we update P and Q matrix. \n",
    "                      (When update, update the P and Q at the same time. Think about why it is important.)\n",
    "                      Otherwise use the error to update the Q and P matrix.\n",
    "                      \n",
    "                  7: For each entry update temp_mse, and append the Current iteration RMSE to rmse_lst.\n",
    "                  \n",
    "        \"\"\"\n",
    " \n",
    "        for f in range(self.iterations):\n",
    "            ### Random Shuffle. Why is this called?\n",
    "            np.random.shuffle(self.train)\n",
    "            \n",
    "            temp_mse = 0\n",
    "\n",
    "            previous_Q = [1]\n",
    "            previous_P = [1]\n",
    "            \n",
    "            Count = 0\n",
    "   \n",
    "            for tup in self.train:\n",
    "                u,i,rating = tup\n",
    "                error = 0\n",
    "                \n",
    "                if abs(error) > 20 :\n",
    "                    continue\n",
    "                Count += 1\n",
    "                temp_mse += 1\n",
    "                \n",
    "                temp_Q = [1]\n",
    "                \n",
    "                Q = [1]\n",
    "                P = [1]\n",
    "                \n",
    "                \n",
    "                #### Don't Modify this code, helpful for converge.\n",
    "                if np.isinf(Q).any() or np.isinf(P).any() or np.isnan(Q).any() or np.isnan(P).any():\n",
    "                    pass\n",
    "                else:\n",
    "                    pass\n",
    "                    #### NEED TO MODIFY #### Update P and Q.\n",
    "#                     self.Q[i,:] = Q\n",
    "#                     self.P[u,:] = P\n",
    "                \n",
    "            rmse_lst.append(1)\n",
    "            \n",
    "            \n",
    "            \"\"\"\n",
    "                TODO: 8: Implement the adaptive learning rate.\n",
    "                         If current rmse is less than previous iteration, let's increase by a factor range from 1 - 1.5\n",
    "                         Otherwise we decrease by a factor range from 0.5 - 1\n",
    "                      9: If the current rmse is greater than previous iteration.\n",
    "                         Check the relative error, (previous - current)/ previous.\n",
    "                         If it is greater than 0.1, we restore the previous Q and P. (Try without it. Think about why we need this.)\n",
    "            \"\"\"\n",
    "            if True:\n",
    "                self.alpha = 1\n",
    "            else:\n",
    "                self.alpha = 1\n",
    "                if True :\n",
    "                    self.Q = [1]\n",
    "                    self.P = [1]\n",
    "                    \n",
    "                \n",
    "        self.rmse = rmse_lst\n",
    "        \n",
    "    def ind_predict(self, tup):\n",
    "        \"\"\"\n",
    "            tup: One single entry, (user, movie)\n",
    "            \n",
    "            TODO: 10: Use P and Q to make prediction on single entry.\n",
    "            \n",
    "        \"\"\"\n",
    "        u,i = tup\n",
    "        return 1\n",
    "    def predict(self, X):\n",
    "        \"\"\"\n",
    "            X: list of entries\n",
    "            \n",
    "            TODO: 11: Use ind_predict we create to make predicitons.\n",
    "        \"\"\"\n",
    "        res = []\n",
    "        for i in X:\n",
    "            res.append(1)\n",
    "        return res"
   ]
  },
  {
   "cell_type": "code",
   "execution_count": 19,
   "metadata": {},
   "outputs": [],
   "source": [
    "import pandas as pd\n",
    "import numpy as np\n",
    "import matplotlib.pyplot as plt"
   ]
  },
  {
   "cell_type": "code",
   "execution_count": null,
   "metadata": {},
   "outputs": [],
   "source": []
  },
  {
   "cell_type": "code",
   "execution_count": 13,
   "metadata": {},
   "outputs": [],
   "source": [
    "ratings = pd.read_csv('./ml-latest-small/ratings.csv')\n",
    "ratings = ratings.sort_values('timestamp').reset_index(drop = True).astype(int)\n",
    "a = np.sort(ratings.movieId.unique())\n",
    "index_dict = {}\n",
    "for i in range(len(a)):\n",
    "    index_dict[a[i]]  = i\n",
    "ratings.movieId = ratings.movieId.apply(lambda x: index_dict[x]) \n",
    "\n",
    "grouped_userId = list(ratings.groupby(['userId']).apply(lambda x: x[['movieId','rating']].values))\n",
    "grouped_movieId = list(ratings.groupby(['movieId']).apply(lambda x: x[['userId','rating']].values))"
   ]
  },
  {
   "cell_type": "code",
   "execution_count": 6,
   "metadata": {},
   "outputs": [],
   "source": [
    "np.random.seed(0)\n",
    "train = set()\n",
    "test = set()\n",
    "\n",
    "for i in range(len(grouped_movieId)):\n",
    "    temp_len = len(grouped_movieId[i])\n",
    "    for j in range(temp_len):\n",
    "        if j < temp_len * 0.8:\n",
    "            train.add((grouped_movieId[i][j][0]-1,i - 1, grouped_movieId[i][j][1]))\n",
    "        else:\n",
    "            test.add((grouped_movieId[i][j][0] -1, i - 1,grouped_movieId[i][j][1]))\n",
    "train = list(train)\n",
    "test = list(test)"
   ]
  },
  {
   "cell_type": "markdown",
   "metadata": {},
   "source": [
    "#### Try to understand what is done for data cleaning. "
   ]
  },
  {
   "cell_type": "markdown",
   "metadata": {},
   "source": [
    "#### If you are doing things correctly (with tuning), you will get something lower than 1.1 test RMSE."
   ]
  },
  {
   "cell_type": "code",
   "execution_count": 22,
   "metadata": {},
   "outputs": [
    {
     "name": "stdout",
     "output_type": "stream",
     "text": [
      "Wall time: 997 µs\n"
     ]
    }
   ],
   "source": [
    "%%time\n",
    "clf = Matrix_Factorization(iterations = 70)\n",
    "clf.fit(train)"
   ]
  },
  {
   "cell_type": "code",
   "execution_count": 24,
   "metadata": {
    "scrolled": true
   },
   "outputs": [],
   "source": [
    "error = 0\n",
    "pred = clf.predict(test)\n",
    "for i in range(len(test)):\n",
    "    error += (test[i][2] - pred[i])**2"
   ]
  },
  {
   "cell_type": "code",
   "execution_count": 25,
   "metadata": {},
   "outputs": [
    {
     "data": {
      "text/plain": [
       "2.5386249744910048"
      ]
     },
     "execution_count": 25,
     "metadata": {},
     "output_type": "execute_result"
    }
   ],
   "source": [
    "(error/ len(test))** (0.5)"
   ]
  },
  {
   "cell_type": "code",
   "execution_count": null,
   "metadata": {},
   "outputs": [],
   "source": []
  },
  {
   "cell_type": "code",
   "execution_count": 28,
   "metadata": {},
   "outputs": [],
   "source": [
    "class Matrix_Factorization_with_bias:\n",
    "    def __init__(self, alpha = 0.00001, iterations = 50, num_of_latent = 200, lam = 0.01):\n",
    "        \n",
    "        \"\"\"\n",
    "            Some initializations, if neccesary\n",
    "            \n",
    "            attributes: \n",
    "                        alpha: Learning Rate, default 0.01\n",
    "                        num_iter: Number of Iterations to update coefficient with training data\n",
    "                        num_of_latent: Number of latent factor.\n",
    "                        lam: Regularization constant\n",
    " \n",
    "            \n",
    "            TODO: 1. Initialize all variables needed.\n",
    "        \"\"\"\n",
    "            \n",
    "        self.alpha = 1\n",
    "        self.iterations = 1\n",
    "        self.num_of_latent =1\n",
    "        self.lam = 1\n",
    "\n",
    "\n",
    "        \n",
    "    def fit(self, train):\n",
    "        \"\"\"\n",
    "            Train: list of tuples with (User, Movie, Rating)\n",
    "            num_user: Number of unique user.\n",
    "            num_movie: Number of unique movie\n",
    "            \n",
    "            TODO: 2. Initialize num_user and num_movie.\n",
    "                  3. Save the training set.\n",
    "                  4. Initialize bu , bi and b. b is the global mean of the rating.\n",
    "                  5. Initialize P and Q matrix. \n",
    "                  Hint: Think about what P and Q represent, what they should do.Think about the shape too. \n",
    "                  \n",
    "            \n",
    "        \n",
    "        \"\"\"\n",
    "        \n",
    "        num_user = 1\n",
    "        num_movie = 1\n",
    "        self.train = [(1,1,1)]\n",
    "        \n",
    "        self.P = [1]\n",
    "        self.Q = [1]\n",
    "        \n",
    "        self.bu = [1]\n",
    "        self.bi = [1]\n",
    "        self.b = 2 \n",
    "        \n",
    "        rmse_lst = []\n",
    "        \n",
    "        \"\"\"\n",
    "            TODO: 5: Calculate the error, using P , Q , bu , bi and b. \n",
    "                  6: Update the P , Q , bu , bi and b with error you calculate. \n",
    "                    (Think about why we don't need to check the absolute of error)\n",
    "                  7: For each entry update temp_mse, and append the Current iteration RMSE to rmse_lst.\n",
    "                  \n",
    "        \"\"\"\n",
    "\n",
    "\n",
    "        for f in range(self.iterations):\n",
    "            \n",
    "            np.random.shuffle(self.train)\n",
    "            \n",
    "            temp_mse = 0\n",
    "            previous_Q = [1]\n",
    "            previous_P = [1]\n",
    "            previous_bu = [1]\n",
    "            previous_bi = [1]\n",
    "            \n",
    "            Count = 0\n",
    "            for tup in self.train:\n",
    "                u,i,rating = tup\n",
    "                \n",
    "                error = 1\n",
    "            \n",
    "\n",
    "                Count += 1   \n",
    "                temp_mse += 1\n",
    "                \n",
    "                bu = [1]\n",
    "                bi = [1]\n",
    "                \n",
    "                temp_Q = [1]\n",
    "                \n",
    "                Q = [1]\n",
    "                P = [1]\n",
    "                \n",
    "                # You might want to update column by column\n",
    "                self.Q = Q\n",
    "                self.P = P\n",
    "                self.bu = bu\n",
    "                self.bi = bi\n",
    "            \n",
    "            rmse_lst.append(1)\n",
    "                \n",
    "            \n",
    "            \n",
    "            \"\"\"\n",
    "                TODO: 8: Implement the adaptive learning rate.\n",
    "                         If current rmse is less than previous iteration, let's increase by a factor range from 1 - 1.5\n",
    "                         Otherwise we decrease by a factor range from 0.5 - 1\n",
    "                      9: If the current rmse is greater than previous iteration.\n",
    "                         Check the relative error, (previous - current)/ previous.\n",
    "                         If it is greater than 0.1, we restore the previous Q and P. (Try without it. Think about why we need this.)\n",
    "            \"\"\"\n",
    "                \n",
    "            \n",
    "            if True:\n",
    "                self.alpha = 1\n",
    "            else:\n",
    "                self.alpha = 1\n",
    "                if True :\n",
    "                    self.Q = [1]\n",
    "                    self.P = [1]\n",
    "                    self.bu = [1]\n",
    "                    self.bi = [1]\n",
    "                    \n",
    "                    \n",
    "            \n",
    "            \n",
    "        self.rmse = rmse_lst\n",
    "            \n",
    "    def ind_predict(self, tup):\n",
    "        \"\"\"\n",
    "            tup: One single entry, (user, movie)\n",
    "            \n",
    "            TODO: 10: Use P and Q to make prediction on single entry.\n",
    "            \n",
    "        \"\"\"\n",
    "        u,i = tup\n",
    "        return 1\n",
    "\n",
    "    \n",
    "    def predict(self, X):\n",
    "        \"\"\"\n",
    "            X: list of entries\n",
    "            \n",
    "            TODO: 11: Use ind_predict we create to make predicitons.\n",
    "        \"\"\"\n",
    "        res = []\n",
    "        for i in X:\n",
    "            res.append(1)\n",
    "        return res\n",
    "            \n",
    "        \n",
    "    "
   ]
  },
  {
   "cell_type": "markdown",
   "metadata": {},
   "source": [
    "### If you are doing thing correctly (With tuning), you should get a Test RMSE below 1."
   ]
  },
  {
   "cell_type": "code",
   "execution_count": 29,
   "metadata": {},
   "outputs": [
    {
     "name": "stdout",
     "output_type": "stream",
     "text": [
      "Wall time: 0 ns\n"
     ]
    }
   ],
   "source": [
    "%%time\n",
    "clf = Matrix_Factorization_with_bias()\n",
    "clf.fit(train)"
   ]
  },
  {
   "cell_type": "code",
   "execution_count": 30,
   "metadata": {},
   "outputs": [],
   "source": [
    "error = 0\n",
    "pred = clf.predict(test)\n",
    "for i in range(len(test)):\n",
    "    error += (test[i][2] - pred[i])**2"
   ]
  },
  {
   "cell_type": "code",
   "execution_count": 31,
   "metadata": {},
   "outputs": [
    {
     "data": {
      "text/plain": [
       "2.5386249744910048"
      ]
     },
     "execution_count": 31,
     "metadata": {},
     "output_type": "execute_result"
    }
   ],
   "source": [
    "(error/ len(test))** (0.5)"
   ]
  },
  {
   "cell_type": "code",
   "execution_count": null,
   "metadata": {},
   "outputs": [],
   "source": []
  }
 ],
 "metadata": {
  "kernelspec": {
   "display_name": "Python 3",
   "language": "python",
   "name": "python3"
  },
  "language_info": {
   "codemirror_mode": {
    "name": "ipython",
    "version": 3
   },
   "file_extension": ".py",
   "mimetype": "text/x-python",
   "name": "python",
   "nbconvert_exporter": "python",
   "pygments_lexer": "ipython3",
   "version": "3.9.2"
  }
 },
 "nbformat": 4,
 "nbformat_minor": 2
}
